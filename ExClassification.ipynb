{
  "nbformat": 4,
  "nbformat_minor": 0,
  "metadata": {
    "accelerator": "GPU",
    "colab": {
      "name": "ExClassification.ipynb",
      "provenance": [],
      "collapsed_sections": [],
      "mount_file_id": "11eh_KYdTvInfuj_O1RCsVX5TXUnN1N1p",
      "authorship_tag": "ABX9TyMza98rfaXmnyHkVHAqRfWp",
      "include_colab_link": true
    },
    "kernelspec": {
      "display_name": "Python 3",
      "name": "python3"
    },
    "language_info": {
      "name": "python"
    }
  },
  "cells": [
    {
      "cell_type": "markdown",
      "metadata": {
        "id": "view-in-github",
        "colab_type": "text"
      },
      "source": [
        "<a href=\"https://colab.research.google.com/github/bijeon/kaeri_ri/blob/master/ExClassification.ipynb\" target=\"_parent\"><img src=\"https://colab.research.google.com/assets/colab-badge.svg\" alt=\"Open In Colab\"/></a>"
      ]
    },
    {
      "cell_type": "markdown",
      "metadata": {
        "id": "DaVsnXJ-kKvo"
      },
      "source": [
        "# 계측 스펙트럼으로부터의 방사성 핵종 식별 실습"
      ]
    },
    {
      "cell_type": "markdown",
      "metadata": {
        "id": "E4gIgRbIiTZx"
      },
      "source": [
        "## 환경설정\n",
        "제일 먼저 위 메뉴의 '런타임'-'런타임 유형 변경'에서 하드웨어 가속기를 'GPU'로 설정해줍니다.  \n",
        "기본 라이브러리를 불러옵니다. 사용할 라이브러리는 다음과 같습니다.  \n",
        "tensorflow 2.0 이상 / 용도: 신경망 모델 개발    \n",
        "numpy 최신 / 용도: data processing    \n",
        "matplotlib 최신 / 용도: Visualization  \n",
        "scikit learn 최신 / 용도: 결과 confusion matrix 형태로 표현 및  visualization\n"
      ]
    },
    {
      "cell_type": "code",
      "metadata": {
        "colab": {
          "base_uri": "https://localhost:8080/"
        },
        "id": "jNaQMkuKh-0X",
        "outputId": "57dc1d9d-4d83-473e-ebd3-23888783fbe2"
      },
      "source": [
        "import os\n",
        "import tensorflow as tf\n",
        "import numpy as np\n",
        "import matplotlib as mpl\n",
        "import matplotlib.pyplot as plt\n",
        "\n",
        "os.chdir('/content/drive/MyDrive/Colab Notebooks')\n",
        "import MCML\n",
        "\n",
        "## 단일 모델들 학습시 활성화\n",
        "# tf.compat.v1.disable_eager_execution()\n",
        "\n",
        "## Multi-task 모델 학습시 활성화\n",
        "# tf.compat.v1.enable_eager_execution()\n",
        "\n",
        "print('done')"
      ],
      "execution_count": null,
      "outputs": [
        {
          "name": "stdout",
          "output_type": "stream",
          "text": [
            "done\n"
          ]
        }
      ]
    },
    {
      "cell_type": "code",
      "metadata": {
        "id": "OG_bjAosnNiZ"
      },
      "source": [
        "## Colab에서 돌릴 때 Executing op 로 시작하는 메세지가 너무 많이 떠서 이를 없애는 명령을 정의했습니다. \n",
        "## Colab에서 돌리는 경우가 아니라면(model을 학습시킬 때 Executing op 로 시작하는 메세지 들이 안뜬다면),\n",
        "## 아래의 셀 스크립트는 실행하지 않으셔도 됩니다.\n",
        "import sys, re, logging\n",
        "\n",
        "class Filter(object):\n",
        "    def __init__(self, stream):\n",
        "        self.stream = stream\n",
        "\n",
        "    def __getattr__(self, attr_name):\n",
        "        return getattr(self.stream, attr_name)\n",
        "\n",
        "    def write(self, data):\n",
        "        if not data.startswith(\"Executing op\"):\n",
        "            self.stream.write(data)\n",
        "            self.stream.flush()\n",
        "\n",
        "    def flush(self):\n",
        "        self.stream.flush()\n",
        "  \n",
        "sys.stdout = Filter(sys.stdout)\n",
        "sys.stderr = Filter(sys.stderr)\n",
        "\n",
        "logger = logging.getLogger(__name__)"
      ],
      "execution_count": null,
      "outputs": []
    },
    {
      "cell_type": "markdown",
      "metadata": {
        "id": "uvc0MfXHjpAL"
      },
      "source": [
        "로드한 라이브러리의 버전과 활용 가능한 자원 \"GPU\"가 있는지 확인합니다.  \n",
        "'device_type: \"GPU\" ' 라는 항목이 프린트 되어야 GPU를 활용할 수 있습니다."
      ]
    },
    {
      "cell_type": "code",
      "metadata": {
        "colab": {
          "base_uri": "https://localhost:8080/"
        },
        "id": "kFBtA081iAfp",
        "outputId": "a44346e9-d754-4378-892d-c3869e0a0413"
      },
      "source": [
        "print('tensorflow version: %s'%tf.__version__)\n",
        "print('numpy version: %s'%np.__version__)\n",
        "print('matplotlib version: %s'%mpl.__version__)\n",
        "from tensorflow.python.client import device_lib\n",
        "device_lib.list_local_devices()\n",
        "\n"
      ],
      "execution_count": null,
      "outputs": [
        {
          "name": "stdout",
          "output_type": "stream",
          "text": [
            "tensorflow version: 2.5.0\n",
            "numpy version: 1.19.5\n",
            "matplotlib version: 3.2.2\n"
          ]
        },
        {
          "data": {
            "text/plain": [
              "[name: \"/device:CPU:0\"\n",
              " device_type: \"CPU\"\n",
              " memory_limit: 268435456\n",
              " locality {\n",
              " }\n",
              " incarnation: 13850720008873372744, name: \"/device:GPU:0\"\n",
              " device_type: \"GPU\"\n",
              " memory_limit: 11344216064\n",
              " locality {\n",
              "   bus_id: 1\n",
              "   links {\n",
              "   }\n",
              " }\n",
              " incarnation: 3448564340390959386\n",
              " physical_device_desc: \"device: 0, name: Tesla K80, pci bus id: 0000:00:04.0, compute capability: 3.7\"]"
            ]
          },
          "execution_count": 3,
          "metadata": {
            "tags": []
          },
          "output_type": "execute_result"
        }
      ]
    },
    {
      "cell_type": "markdown",
      "metadata": {
        "id": "wdvp6mSFkaJZ"
      },
      "source": [
        "GPU 메모리 설정을 해줍니다.  \n",
        "본 메모리 설정은 현재 작업에 필요한 최소한의 메모리 만큼을 GPU에 할당하고, 나중에 더 필요할 경우, 더 필요한 만큼만 할당량을 늘리도록 하는 것입니다.  \n",
        "Tensorflow에서는 이러한 메모리 설정을 따로 해주지 않으면 해당 작업을 GPU 메모리 전부에 할당해 버립니다. 본 실습에서는 그다지 중요하지 않은 부분이지만, 나중에 실제 모델 개발을 하실 때에 GPU 리소스가 충분하지 않으실 경우 꼭 필요한 설정입니다.  \n",
        "예를들어 GPU 1기의 메모리가 16GB라고 할 때, 한 세션을 돌리는데 필요한 메모리는 8GB라고 하면 동일한 세션 두 개를 한번에 돌릴 수 있는데, GPU 메모리 설정을 해주지 않으면 세션을 한 개 밖에 돌릴 수 없게 됩니다."
      ]
    },
    {
      "cell_type": "code",
      "metadata": {
        "colab": {
          "base_uri": "https://localhost:8080/"
        },
        "id": "vMjiqOgoiEsr",
        "outputId": "4d1e7dc5-3b46-49f9-b3fe-6878e9356cbd"
      },
      "source": [
        "tf.debugging.set_log_device_placement(True)\n",
        "list_gpu = tf.config.experimental.list_physical_devices(device_type='GPU')\n",
        "for gpu in list_gpu:\n",
        "  tf.config.experimental.set_memory_growth(gpu, True)\n",
        "  \n",
        "print('done')"
      ],
      "execution_count": null,
      "outputs": [
        {
          "name": "stdout",
          "output_type": "stream",
          "text": [
            "done\n"
          ]
        }
      ]
    },
    {
      "cell_type": "markdown",
      "metadata": {
        "id": "ueK6loFSp6D4"
      },
      "source": [
        "## 데이터 로드\n",
        "본 실습에서 구현할 모델은 Multi-class classification과 Multi-label classification 모델입니다.  \n",
        "Multi-class 와 Multi-label classification 에 대한 차이는 다음 링크를 참고하여 주세요. (https://wikidocs.net/84581)  \n",
        "아래에서는 데이터를 불러옵니다.   \n",
        "총 3개의 선원을 플라스틱 섬광체 검출기로 계측한 스펙트럼들이 csv파일로 저장되어 있습니다.    \n",
        "데이터의 가장 첫 번째 열은 class를 나타내며, 나머지 500개 열은 500 채널의 계측 스펙트럼을 나타냅니다.  \n",
        "Class는 1부터 8까지 있으며, 각 class는 해당 스펙트럼이 다음 핵종에 대한 계측 결과임을 의미합니다.  \n",
        "1: BKG / 2: Na22 / 3: Co60 / 4: Cs137 / 5: Na22 & Co60 / 6: Na22 & Cs137 / 7: Co60 & Cs137 / 8: Na22 & Co60 & Cs137  \n",
        "각 Class 마다 500개씩 총 4000개의 데이터셋이 있으며, 이를 학습 데이터로 활용할 예정입니다.  \n",
        "4000개의 데이터셋 중 3000개는 학습, 1000개는 검증용으로 쓸 것입니다.  \n",
        "현재 데이터는 1~8 클래스가 순서대로 배열되어 있으므로, 이를 랜덤하게 섞어준 뒤 학습, 검증 셋으로 분리 할 것 입니다.\n",
        "테스트셋은 각 Class마다 100개씩 총 800개의 데이터셋이 있습니다.\n"
      ]
    },
    {
      "cell_type": "code",
      "metadata": {
        "colab": {
          "base_uri": "https://localhost:8080/"
        },
        "id": "BaOpBVDIlOfy",
        "outputId": "90d718bb-819a-424e-d053-5363941940ba"
      },
      "source": [
        "# train_data = np.loadtxt('/content/drive/MyDrive/Colab Notebooks/TRAINSET_500.csv',delimiter = ',')\n",
        "print(train_data.shape)\n",
        "# test_data = np.loadtxt('/content/drive/MyDrive/Colab Notebooks/TESTSET.csv',delimiter = ',')\n",
        "print(test_data.shape)\n",
        "\n",
        "print(train_data)\n",
        "## Train data shuffle\n",
        "np.random.seed(111)\n",
        "s = np.arange(len(train_data))\n",
        "np.random.shuffle(s)\n",
        "train_data = train_data[s,:]\n",
        "print(train_data)\n",
        "s = np.arange(len(test_data))\n",
        "np.random.shuffle(s)\n",
        "test_data = test_data[s,:]"
      ],
      "execution_count": null,
      "outputs": [
        {
          "name": "stdout",
          "output_type": "stream",
          "text": [
            "(4000, 501)\n",
            "(800, 501)\n",
            "[[  1.  65.  40. ...   0.   0.   0.]\n",
            " [  1.  10.  12. ...   0.   0.   0.]\n",
            " [  1.  29.  21. ...   0.   0.   0.]\n",
            " ...\n",
            " [  8.  49.  60. ...   0.   0.   0.]\n",
            " [  8. 358. 206. ...   0.   0.   0.]\n",
            " [  8. 146.  97. ...   0.   0.   0.]]\n",
            "[[  4.  20.  26. ...   0.   0.   0.]\n",
            " [  7. 352. 321. ...   0.   0.   0.]\n",
            " [  5.  38.  25. ...   0.   0.   0.]\n",
            " ...\n",
            " [  1.  14.  13. ...   0.   0.   0.]\n",
            " [  4.  30.  33. ...   0.   0.   0.]\n",
            " [  8.  48.  52. ...   0.   0.   0.]]\n"
          ]
        }
      ]
    },
    {
      "cell_type": "markdown",
      "metadata": {
        "id": "3126XY6trlAQ"
      },
      "source": [
        "불러온 데이터셋 중 input data만 분리합니다.  \n",
        "학습데이터셋에서 Train, validation set을 분리합니다. \n",
        "그리고 입력 데이터(스펙트럼)를 정규화 합니다.  \n",
        "정규화에 사용한 방법은, 각 스펙트럼을 각 스펙트럼의 총 카운트 수로 나눈 뒤, 100을 곱해주는 방식입니다. 각 스펙트럼을 각 스펙트럼의 총 카운트 수로 나눔으로써 각 스펙트럼을 확률밀도함수(Probabilistic density function, PDF)처럼 표한할 수 있고, 여기에 100을 곱해줌으로써 PDF의 y축을 백분률로 표현할 수 있습니다."
      ]
    },
    {
      "cell_type": "code",
      "metadata": {
        "colab": {
          "base_uri": "https://localhost:8080/"
        },
        "id": "Budn7QK9ppNz",
        "outputId": "f4c325a2-0c10-4d12-dfb8-6f9c0698df0b"
      },
      "source": [
        "train_x = train_data[:3000,1:]/np.sum(train_data[:3000,1:],axis=1).reshape(-1,1)*100\n",
        "val_x = train_data[3000:,1:]/np.sum(train_data[3000:,1:],axis=1).reshape(-1,1)*100\n",
        "test_x = test_data[:,1:]/np.sum(test_data[:,1:],axis=1).reshape(-1,1)*100\n",
        "\n",
        "print(train_x.shape)\n",
        "print(test_x.shape)\n",
        "# print(train_data)"
      ],
      "execution_count": null,
      "outputs": [
        {
          "name": "stdout",
          "output_type": "stream",
          "text": [
            "(3000, 500)\n",
            "(800, 500)\n"
          ]
        }
      ]
    },
    {
      "cell_type": "code",
      "metadata": {
        "colab": {
          "base_uri": "https://localhost:8080/"
        },
        "id": "gE3pzm6VVdiq",
        "outputId": "4d9fe78d-7366-4463-b866-23fdd84589da"
      },
      "source": [
        "np.sum(train_data[:3000,1:],axis=1)"
      ],
      "execution_count": null,
      "outputs": [
        {
          "data": {
            "text/plain": [
              "array([1236., 1654., 1854., ..., 1306., 1120., 1910.])"
            ]
          },
          "execution_count": 7,
          "metadata": {
            "tags": []
          },
          "output_type": "execute_result"
        }
      ]
    },
    {
      "cell_type": "markdown",
      "metadata": {
        "id": "mYM5pReRsGtt"
      },
      "source": [
        "불러온 데이터셋에서 class만 불러와서 이를 categorical representation (one-hot encoding)로 표현합니다. \n",
        "본 실습에서 정의할 category representation은 다음과 같습니다.  \n",
        "Multi-class classification  \n",
        "1: BKG [1 0 0 0 0 0 0 0]  \n",
        "2: Na22 [0 1 0 0 0 0 0 0]  \n",
        "3: Co60 [0 0 1 0 0 0 0 0]  \n",
        "나머지도 같은 방식으로....  \n",
        "Multi-label classification   \n",
        "[Na22유무(0 or 1), Co60유무(0 or 1), Cs137유무(0 or 1)]  \n",
        "정확히는, Multi-label binary classification이라는 표현이 맞고, 각 핵종의 유무가 각 label을 의미합니다. 그리고 각 label은 핵종 유무(0 또는 1)를 나타내는 binary class를 갖습니다. "
      ]
    },
    {
      "cell_type": "code",
      "metadata": {
        "id": "OM2cWV1RryJW"
      },
      "source": [
        "# MCML.py 에 아래와 같이 정의되어 있음.\n",
        "# def multilabel_to_categorical(data,num_classes):\n",
        "#   j=0\n",
        "#   cat = np.zeros([len(data),num_classes])\n",
        "#   for d in data:\n",
        "#     if int(d)==1: cat[j,:] = [0,0,0]\n",
        "#     elif int(d)==2: cat[j,:]=[1,0,0]\n",
        "#     elif int(d)==3: cat[j,:]=[0,1,0]\n",
        "#     elif int(d)==4: cat[j,:]=[0,0,1]\n",
        "#     elif int(d)==5: cat[j,:]=[1,1,0]\n",
        "#     elif int(d)==6: cat[j,:]=[1,0,1]\n",
        "#     elif int(d)==7: cat[j,:]=[0,1,1]\n",
        "#     elif int(d)==8: cat[j,:]=[1,1,1]\n",
        "#     j = j+1\n",
        "#   return cat\n",
        "\n",
        "# # Multi-label classification category one-hot representation\n",
        "train_y_ml = MCML.multilabel_to_categorical(train_data[:3000,0],num_classes=3)\n",
        "val_y_ml = MCML.multilabel_to_categorical(train_data[3000:,0],num_classes=3)\n",
        "test_y_ml = MCML.multilabel_to_categorical(test_data[:,0],num_classes=3)\n",
        "\n",
        "# # Multi-class classification category one-hot representation\n",
        "train_y_mc = tf.keras.utils.to_categorical(train_data[:3000,0]-1, num_classes=8)\n",
        "val_y_mc = tf.keras.utils.to_categorical(train_data[3000:,0]-1, num_classes=8)\n",
        "test_y_mc = tf.keras.utils.to_categorical(test_data[:,0]-1, num_classes=8)\n",
        "\n",
        "# print(train_y_ml.shape)\n",
        "# print(train_y_mc.shape)"
      ],
      "execution_count": null,
      "outputs": []
    },
    {
      "cell_type": "code",
      "metadata": {
        "colab": {
          "base_uri": "https://localhost:8080/"
        },
        "id": "zUD2j8WNweeR",
        "outputId": "22f5a1d1-09dd-4e5f-fd24-54766d996493"
      },
      "source": [
        "print(test_y_ml[690,:])\n",
        "print(test_data[690,0])"
      ],
      "execution_count": null,
      "outputs": [
        {
          "name": "stdout",
          "output_type": "stream",
          "text": [
            "[0. 0. 1.]\n",
            "4.0\n"
          ]
        }
      ]
    },
    {
      "cell_type": "markdown",
      "metadata": {
        "id": "pdg-2Nmru0do"
      },
      "source": [
        "불러온 학습셋의 각 핵종 별 스펙트럼들을 확인해봅시다.\n"
      ]
    },
    {
      "cell_type": "code",
      "metadata": {
        "colab": {
          "base_uri": "https://localhost:8080/",
          "height": 505
        },
        "id": "egqoqSa7uDtv",
        "outputId": "7607d719-c0e2-4215-81ee-64ef1ed51dc1"
      },
      "source": [
        "Source = ['BKG','$^{22}$Na','$^{60}$Co','$^{137}$Cs','$^{22}$Na,$^{60}$Co','$^{22}$Na,$^{137}$Cs','$^{60}$Co,$^{137}$Cs','$^{22}$Na,$^{60}$Co,$^{137}$Cs']\n",
        "plt.figure(figsize=[12,8])\n",
        "for i in range(8):\n",
        "  plt.semilogy(test_x[100*i,:],label=Source[i])\n",
        "plt.legend(loc='best',fontsize='12')\n",
        "plt.grid()\n",
        "plt.xlabel('Channel',fontsize='15')\n",
        "plt.ylabel('Count',fontsize='15')\n",
        "plt.tick_params(axis='both',labelsize='12')"
      ],
      "execution_count": null,
      "outputs": [
        {
          "data": {
            "image/png": "[encoded data removed]",
            "text/plain": [
              "<Figure size 864x576 with 1 Axes>"
            ]
          },
          "metadata": {
            "tags": []
          },
          "output_type": "display_data"
        }
      ]
    },
    {
      "cell_type": "markdown",
      "metadata": {
        "id": "UiQ7bsI5Yquq"
      },
      "source": [
        "## 모델 정의\n",
        "Multi-class classifier 와 Multi-label binary classifier를 정의합니다.  \n",
        "모델 구조는 동일하게 임의로 설정하겠습니다.  \n",
        "각 모델은 300개의 인공뉴런을 갖는 2개의 은닉층과 1개의 출력층으로 정의하였고, Dropout을 정의하였습니다.  \n",
        "정의할 떄의 차이점은, Multi-class 모델의 경우 맨 마지막 레이어의 활성화 함수를 일반적인 classification문제에서 많이 쓰는 'softmax'로 정의하는데, Multi-label 모델은 그냥 'sigmoid'를 쓴 다는 것 입니다.  \n",
        "softmax함수의 경우 출력 값을 0\\~1사이로 정규화 하여 출력의 총 합이 1이 되도록 만드는 함수로 one-hot representation에서 1이 하나 밖에 없는 multi-class 문제에는 적합하나, 1이 여러개 있는 Multi-label 문제에서는 활용할 수 없습니다. 따라서 이 경우에는 출력 값을 0\\~1사이로 내는 sigmoid를 사용합니다.  \n"
      ]
    },
    {
      "cell_type": "code",
      "metadata": {
        "colab": {
          "base_uri": "https://localhost:8080/"
        },
        "id": "_aJA6IghuNUn",
        "outputId": "7e109cb2-5d4e-4879-b733-fa90d9f6072c"
      },
      "source": [
        "from tensorflow.keras.models import Model, load_model\n",
        "from tensorflow.keras.utils import plot_model\n",
        "from tensorflow.keras import layers\n",
        "\n",
        "def mc_classifier(l_input,l_output,droprate):\n",
        "  input_data = layers.Input(shape=(l_input,))\n",
        "  L1 = layers.Dense(50,activation='ReLU')(input_data)\n",
        "  L1 = layers.Dropout(droprate)(L1)\n",
        "  L1 = layers.BatchNormalization()(L1)\n",
        "  L2 = layers.Dense(50,activation='ReLU')(L1)\n",
        "  L2 = layers.Dropout(droprate)(L2)\n",
        "  L2 = layers.BatchNormalization()(L2)\n",
        "  L3 = layers.Dense(l_output,activation='softmax')(L2)\n",
        "  return Model(input_data,L3)\n",
        "\n",
        "def ml_classifier(l_input,l_output,droprate):\n",
        "  input_data = layers.Input(shape=(l_input,))\n",
        "  L1 = layers.Dense(50,activation='ReLU')(input_data)\n",
        "  L1 = layers.Dropout(droprate)(L1)\n",
        "  L1 = layers.BatchNormalization()(L1)\n",
        "  L2 = layers.Dense(50,activation='ReLU')(L1)\n",
        "  L2 = layers.Dropout(droprate)(L2)\n",
        "  L2 = layers.BatchNormalization()(L2)\n",
        "  L3 = layers.Dense(l_output,activation='sigmoid')(L2)\n",
        "  return Model(input_data,L3)\n",
        "\n",
        "MC_classifier = mc_classifier(l_input=500,l_output=8,droprate=0.2)\n",
        "ML_classifier = ml_classifier(l_input=500,l_output=3,droprate=0.2)\n",
        "\n",
        "MC_classifier.summary()\n",
        "ML_classifier.summary()"
      ],
      "execution_count": null,
      "outputs": [
        {
          "name": "stdout",
          "output_type": "stream",
          "text": [
            "Model: \"model\"\n",
            "_________________________________________________________________\n",
            "Layer (type)                 Output Shape              Param #   \n",
            "=================================================================\n",
            "input_1 (InputLayer)         [(None, 500)]             0         \n",
            "_________________________________________________________________\n",
            "dense (Dense)                (None, 50)                25050     \n",
            "_________________________________________________________________\n",
            "dropout (Dropout)            (None, 50)                0         \n",
            "_________________________________________________________________\n",
            "batch_normalization (BatchNo (None, 50)                200       \n",
            "_________________________________________________________________\n",
            "dense_1 (Dense)              (None, 50)                2550      \n",
            "_________________________________________________________________\n",
            "dropout_1 (Dropout)          (None, 50)                0         \n",
            "_________________________________________________________________\n",
            "batch_normalization_1 (Batch (None, 50)                200       \n",
            "_________________________________________________________________\n",
            "dense_2 (Dense)              (None, 8)                 408       \n",
            "=================================================================\n",
            "Total params: 28,408\n",
            "Trainable params: 28,208\n",
            "Non-trainable params: 200\n",
            "_________________________________________________________________\n",
            "Model: \"model_1\"\n",
            "_________________________________________________________________\n",
            "Layer (type)                 Output Shape              Param #   \n",
            "=================================================================\n",
            "input_2 (InputLayer)         [(None, 500)]             0         \n",
            "_________________________________________________________________\n",
            "dense_3 (Dense)              (None, 50)                25050     \n",
            "_________________________________________________________________\n",
            "dropout_2 (Dropout)          (None, 50)                0         \n",
            "_________________________________________________________________\n",
            "batch_normalization_2 (Batch (None, 50)                200       \n",
            "_________________________________________________________________\n",
            "dense_4 (Dense)              (None, 50)                2550      \n",
            "_________________________________________________________________\n",
            "dropout_3 (Dropout)          (None, 50)                0         \n",
            "_________________________________________________________________\n",
            "batch_normalization_3 (Batch (None, 50)                200       \n",
            "_________________________________________________________________\n",
            "dense_5 (Dense)              (None, 3)                 153       \n",
            "=================================================================\n",
            "Total params: 28,153\n",
            "Trainable params: 27,953\n",
            "Non-trainable params: 200\n",
            "_________________________________________________________________\n"
          ]
        }
      ]
    },
    {
      "cell_type": "markdown",
      "metadata": {
        "id": "XcgMg45HdK9v"
      },
      "source": [
        "각 모델을 훈련시킬 옵티마이저를 정의하고 모델을 컴파일 하겠습니다.  \n",
        "옵티마이저는 여기저기 많이 쓰이는 Adam optimzier를 사용하겠습니다.  \n",
        "컴파일 할 때 두 모델의 차이점은, 다른 손실함수를 정의해줘야 한다는 것입니다.  \n",
        "Multi-class 에서는 categorical crossentropy를, Multi-label 에서는 binary_crossentropy를 손실함수로 정의할 것입니다.  "
      ]
    },
    {
      "cell_type": "code",
      "metadata": {
        "id": "xFK0oAR6auqZ"
      },
      "source": [
        "from tensorflow.keras.optimizers import Adam\n",
        "\n",
        "mc_opt = Adam(learning_rate=0.0001)\n",
        "ml_opt = Adam(learning_rate=0.0001)\n",
        "\n",
        "MC_classifier.compile(optimizer = mc_opt,loss='categorical_crossentropy',metrics=['accuracy'])\n",
        "ML_classifier.compile(optimizer = ml_opt,loss='binary_crossentropy',metrics=['binary_accuracy'])\n",
        "\n",
        "# print(ML_classifier.metrics_names)"
      ],
      "execution_count": null,
      "outputs": []
    },
    {
      "cell_type": "markdown",
      "metadata": {
        "id": "g5lzYdGPfBS1"
      },
      "source": [
        "## 모델 학습 및 결과 확인\n",
        "이제 모델을 학습시켜야 합니다. 그 전에 모델 학습시 많이 일어나는 'overfitting'을 방지하기 위하여 몇 가지 설정을 해줘야 합니다. 가장 먼저 validation dataset을 정의해줘야 하는데요, 일반적으로 데이터셋을 불러와서 일부를 떼어내기도 하고, 학습과정에서 정해진 비율만큼 임의로 나누도록 설정할 수도 있습니다. 본 실습에서는 학습데이터의 수가 그리 많지 않으므로 정해진 비율만큼 임의로 나누도록 설정하겠습니다. 이렇게 validation set을 설정해주면, 모델 학습간에 loss를 train loss와 validation loss 두 가지를 볼 수 있습니다. train set은 학습 간에 활용되는 데이터셋이고, validation set은 학습에 활용되지 않으며, 모델이 overfitting되는지 확인하기 위해 활용하는 데이터셋입니다. 학습 epoch가 계속 진행될 수록 train loss는 계속 감소하는 추세를 보이나 validation loss는 그렇지 않습니다. 따라서 train loss는 감소하지만 validation loss는 더이상 감소하지 않으면, 모델이 train set에 overfitting 되고 있는 것이라고 판단할 수 있습니다.   \n",
        "두 번째는 callback함수를 정의해주는 것 입니다. 많이 쓰는 옵션은 Earlystopping 과 ModelCheckpoint 입니다. 두 옵션은 학습과정에서 validation loss를 모니터링 하는 것은 동일 하나 Earlystopping은 손실 값이 증가하는 경향을 보일 때 이를 중지시키는 방식이고, ModelCheckpoint는 중지 없이 정의한 에포크 만큼 학습을 계속 시키고 전체 에포크에서 가장 작은 손실 값을 보였던 에포크의 모델을 중간저장하여 나중에 활용할 수 있도록 해주는 방식입니다. 본 실습에서는 EarlyStopping을 사용하겠습니다.\n"
      ]
    },
    {
      "cell_type": "code",
      "metadata": {
        "colab": {
          "base_uri": "https://localhost:8080/"
        },
        "id": "k_eDV0cVdoAM",
        "outputId": "46f59579-a364-4701-9d90-f7959082e65c"
      },
      "source": [
        "ES_MC = tf.keras.callbacks.EarlyStopping(monitor='val_accuracy',patience=20,restore_best_weights=True)\n",
        "\n",
        "history_MC=MC_classifier.fit(x=train_x,y=train_y_mc,validation_data=(val_x,val_y_mc),batch_size=2**8,epochs=100,validation_split=0.2,callbacks=[ES_MC],shuffle=True)"
      ],
      "execution_count": null,
      "outputs": [
        {
          "name": "stdout",
          "output_type": "stream",
          "text": [
            "Epoch 1/100\n",
            "10/10 [==============================] - 4s 47ms/step - loss: 2.8256 - accuracy: 0.1029 - val_loss: 2.0911 - val_accuracy: 0.1500\n",
            "Epoch 2/100\n",
            "10/10 [==============================] - 0s 14ms/step - loss: 2.7158 - accuracy: 0.1154 - val_loss: 2.0767 - val_accuracy: 0.1533\n",
            "Epoch 3/100\n",
            "10/10 [==============================] - 0s 15ms/step - loss: 2.6237 - accuracy: 0.1350 - val_loss: 2.0622 - val_accuracy: 0.1567\n",
            "Epoch 4/100\n",
            "10/10 [==============================] - 0s 15ms/step - loss: 2.5367 - accuracy: 0.1604 - val_loss: 2.0470 - val_accuracy: 0.1683\n",
            "Epoch 5/100\n",
            "10/10 [==============================] - 0s 16ms/step - loss: 2.4815 - accuracy: 0.1658 - val_loss: 2.0304 - val_accuracy: 0.1750\n",
            "Epoch 6/100\n",
            "10/10 [==============================] - 0s 14ms/step - loss: 2.4130 - accuracy: 0.1779 - val_loss: 2.0135 - val_accuracy: 0.1883\n",
            "Epoch 7/100\n",
            "10/10 [==============================] - 0s 15ms/step - loss: 2.3190 - accuracy: 0.2104 - val_loss: 1.9956 - val_accuracy: 0.2200\n",
            "Epoch 8/100\n",
            "10/10 [==============================] - 0s 14ms/step - loss: 2.2626 - accuracy: 0.2121 - val_loss: 1.9774 - val_accuracy: 0.2350\n",
            "Epoch 9/100\n",
            "10/10 [==============================] - 0s 15ms/step - loss: 2.2103 - accuracy: 0.2254 - val_loss: 1.9591 - val_accuracy: 0.2483\n",
            "Epoch 10/100\n",
            "10/10 [==============================] - 0s 13ms/step - loss: 2.1469 - accuracy: 0.2463 - val_loss: 1.9409 - val_accuracy: 0.2817\n",
            "Epoch 11/100\n",
            "10/10 [==============================] - 0s 16ms/step - loss: 2.1551 - accuracy: 0.2471 - val_loss: 1.9223 - val_accuracy: 0.3017\n",
            "Epoch 12/100\n",
            "10/10 [==============================] - 0s 13ms/step - loss: 2.0792 - accuracy: 0.2575 - val_loss: 1.9044 - val_accuracy: 0.3100\n",
            "Epoch 13/100\n",
            "10/10 [==============================] - 0s 16ms/step - loss: 1.9970 - accuracy: 0.3083 - val_loss: 1.8865 - val_accuracy: 0.3133\n",
            "Epoch 14/100\n",
            "10/10 [==============================] - 0s 14ms/step - loss: 2.0123 - accuracy: 0.2925 - val_loss: 1.8656 - val_accuracy: 0.3267\n",
            "Epoch 15/100\n",
            "10/10 [==============================] - 0s 14ms/step - loss: 1.9611 - accuracy: 0.3146 - val_loss: 1.8412 - val_accuracy: 0.3567\n",
            "Epoch 16/100\n",
            "10/10 [==============================] - 0s 13ms/step - loss: 1.9375 - accuracy: 0.3187 - val_loss: 1.8181 - val_accuracy: 0.3767\n",
            "Epoch 17/100\n",
            "10/10 [==============================] - 0s 14ms/step - loss: 1.8816 - accuracy: 0.3333 - val_loss: 1.7948 - val_accuracy: 0.3817\n",
            "Epoch 18/100\n",
            "10/10 [==============================] - 0s 15ms/step - loss: 1.8519 - accuracy: 0.3454 - val_loss: 1.7705 - val_accuracy: 0.3817\n",
            "Epoch 19/100\n",
            "10/10 [==============================] - 0s 16ms/step - loss: 1.8150 - accuracy: 0.3500 - val_loss: 1.7435 - val_accuracy: 0.4033\n",
            "Epoch 20/100\n",
            "10/10 [==============================] - 0s 15ms/step - loss: 1.7899 - accuracy: 0.3529 - val_loss: 1.7204 - val_accuracy: 0.4067\n",
            "Epoch 21/100\n",
            "10/10 [==============================] - 0s 14ms/step - loss: 1.7546 - accuracy: 0.3646 - val_loss: 1.6940 - val_accuracy: 0.4283\n",
            "Epoch 22/100\n",
            "10/10 [==============================] - 0s 15ms/step - loss: 1.7226 - accuracy: 0.3638 - val_loss: 1.6671 - val_accuracy: 0.4450\n",
            "Epoch 23/100\n",
            "10/10 [==============================] - 0s 14ms/step - loss: 1.7025 - accuracy: 0.4083 - val_loss: 1.6399 - val_accuracy: 0.4583\n",
            "Epoch 24/100\n",
            "10/10 [==============================] - 0s 14ms/step - loss: 1.6790 - accuracy: 0.4104 - val_loss: 1.6069 - val_accuracy: 0.4800\n",
            "Epoch 25/100\n",
            "10/10 [==============================] - 0s 14ms/step - loss: 1.6473 - accuracy: 0.4183 - val_loss: 1.5688 - val_accuracy: 0.5050\n",
            "Epoch 26/100\n",
            "10/10 [==============================] - 0s 14ms/step - loss: 1.6131 - accuracy: 0.4146 - val_loss: 1.5368 - val_accuracy: 0.5283\n",
            "Epoch 27/100\n",
            "10/10 [==============================] - 0s 13ms/step - loss: 1.5862 - accuracy: 0.4317 - val_loss: 1.5048 - val_accuracy: 0.5267\n",
            "Epoch 28/100\n",
            "10/10 [==============================] - 0s 15ms/step - loss: 1.5676 - accuracy: 0.4475 - val_loss: 1.4714 - val_accuracy: 0.5500\n",
            "Epoch 29/100\n",
            "10/10 [==============================] - 0s 13ms/step - loss: 1.5621 - accuracy: 0.4504 - val_loss: 1.4445 - val_accuracy: 0.5500\n",
            "Epoch 30/100\n",
            "10/10 [==============================] - 0s 15ms/step - loss: 1.5015 - accuracy: 0.4712 - val_loss: 1.4178 - val_accuracy: 0.5650\n",
            "Epoch 31/100\n",
            "10/10 [==============================] - 0s 14ms/step - loss: 1.4714 - accuracy: 0.4771 - val_loss: 1.3908 - val_accuracy: 0.5667\n",
            "Epoch 32/100\n",
            "10/10 [==============================] - 0s 14ms/step - loss: 1.4686 - accuracy: 0.4725 - val_loss: 1.3647 - val_accuracy: 0.5783\n",
            "Epoch 33/100\n",
            "10/10 [==============================] - 0s 14ms/step - loss: 1.4545 - accuracy: 0.4825 - val_loss: 1.3358 - val_accuracy: 0.5917\n",
            "Epoch 34/100\n",
            "10/10 [==============================] - 0s 13ms/step - loss: 1.4081 - accuracy: 0.5038 - val_loss: 1.3084 - val_accuracy: 0.6017\n",
            "Epoch 35/100\n",
            "10/10 [==============================] - 0s 15ms/step - loss: 1.4037 - accuracy: 0.4963 - val_loss: 1.2818 - val_accuracy: 0.6117\n",
            "Epoch 36/100\n",
            "10/10 [==============================] - 0s 14ms/step - loss: 1.4046 - accuracy: 0.5000 - val_loss: 1.2541 - val_accuracy: 0.6317\n",
            "Epoch 37/100\n",
            "10/10 [==============================] - 0s 16ms/step - loss: 1.3775 - accuracy: 0.5292 - val_loss: 1.2254 - val_accuracy: 0.6450\n",
            "Epoch 38/100\n",
            "10/10 [==============================] - 0s 14ms/step - loss: 1.3331 - accuracy: 0.5300 - val_loss: 1.1976 - val_accuracy: 0.6467\n",
            "Epoch 39/100\n",
            "10/10 [==============================] - 0s 15ms/step - loss: 1.3126 - accuracy: 0.5396 - val_loss: 1.1737 - val_accuracy: 0.6567\n",
            "Epoch 40/100\n",
            "10/10 [==============================] - 0s 15ms/step - loss: 1.3281 - accuracy: 0.5421 - val_loss: 1.1512 - val_accuracy: 0.6683\n",
            "Epoch 41/100\n",
            "10/10 [==============================] - 0s 16ms/step - loss: 1.2828 - accuracy: 0.5625 - val_loss: 1.1251 - val_accuracy: 0.6900\n",
            "Epoch 42/100\n",
            "10/10 [==============================] - 0s 13ms/step - loss: 1.2603 - accuracy: 0.5587 - val_loss: 1.1027 - val_accuracy: 0.6967\n",
            "Epoch 43/100\n",
            "10/10 [==============================] - 0s 15ms/step - loss: 1.2228 - accuracy: 0.5842 - val_loss: 1.0772 - val_accuracy: 0.7083\n",
            "Epoch 44/100\n",
            "10/10 [==============================] - 0s 14ms/step - loss: 1.2480 - accuracy: 0.5638 - val_loss: 1.0574 - val_accuracy: 0.7083\n",
            "Epoch 45/100\n",
            "10/10 [==============================] - 0s 16ms/step - loss: 1.1896 - accuracy: 0.5896 - val_loss: 1.0455 - val_accuracy: 0.7100\n",
            "Epoch 46/100\n",
            "10/10 [==============================] - 0s 13ms/step - loss: 1.1781 - accuracy: 0.5929 - val_loss: 1.0293 - val_accuracy: 0.7167\n",
            "Epoch 47/100\n",
            "10/10 [==============================] - 0s 15ms/step - loss: 1.1491 - accuracy: 0.6129 - val_loss: 1.0087 - val_accuracy: 0.7250\n",
            "Epoch 48/100\n",
            "10/10 [==============================] - 0s 15ms/step - loss: 1.1483 - accuracy: 0.6208 - val_loss: 0.9850 - val_accuracy: 0.7350\n",
            "Epoch 49/100\n",
            "10/10 [==============================] - 0s 15ms/step - loss: 1.1339 - accuracy: 0.6192 - val_loss: 0.9615 - val_accuracy: 0.7483\n",
            "Epoch 50/100\n",
            "10/10 [==============================] - 0s 15ms/step - loss: 1.1145 - accuracy: 0.6271 - val_loss: 0.9457 - val_accuracy: 0.7617\n",
            "Epoch 51/100\n",
            "10/10 [==============================] - 0s 14ms/step - loss: 1.0858 - accuracy: 0.6308 - val_loss: 0.9303 - val_accuracy: 0.7700\n",
            "Epoch 52/100\n",
            "10/10 [==============================] - 0s 15ms/step - loss: 1.0661 - accuracy: 0.6354 - val_loss: 0.9199 - val_accuracy: 0.7717\n",
            "Epoch 53/100\n",
            "10/10 [==============================] - 0s 16ms/step - loss: 1.0583 - accuracy: 0.6313 - val_loss: 0.9020 - val_accuracy: 0.7800\n",
            "Epoch 54/100\n",
            "10/10 [==============================] - 0s 15ms/step - loss: 1.0188 - accuracy: 0.6650 - val_loss: 0.8886 - val_accuracy: 0.7767\n",
            "Epoch 55/100\n",
            "10/10 [==============================] - 0s 13ms/step - loss: 1.0130 - accuracy: 0.6600 - val_loss: 0.8702 - val_accuracy: 0.7817\n",
            "Epoch 56/100\n",
            "10/10 [==============================] - 0s 14ms/step - loss: 1.0189 - accuracy: 0.6546 - val_loss: 0.8552 - val_accuracy: 0.7767\n",
            "Epoch 57/100\n",
            "10/10 [==============================] - 0s 14ms/step - loss: 1.0045 - accuracy: 0.6662 - val_loss: 0.8410 - val_accuracy: 0.7867\n",
            "Epoch 58/100\n",
            "10/10 [==============================] - 0s 14ms/step - loss: 0.9907 - accuracy: 0.6817 - val_loss: 0.8248 - val_accuracy: 0.7950\n",
            "Epoch 59/100\n",
            "10/10 [==============================] - 0s 13ms/step - loss: 0.9798 - accuracy: 0.6833 - val_loss: 0.8070 - val_accuracy: 0.8067\n",
            "Epoch 60/100\n",
            "10/10 [==============================] - 0s 15ms/step - loss: 0.9664 - accuracy: 0.6917 - val_loss: 0.7951 - val_accuracy: 0.8133\n",
            "Epoch 61/100\n",
            "10/10 [==============================] - 0s 14ms/step - loss: 0.9542 - accuracy: 0.6913 - val_loss: 0.7802 - val_accuracy: 0.8183\n",
            "Epoch 62/100\n",
            "10/10 [==============================] - 0s 15ms/step - loss: 0.9262 - accuracy: 0.6883 - val_loss: 0.7722 - val_accuracy: 0.8200\n",
            "Epoch 63/100\n",
            "10/10 [==============================] - 0s 16ms/step - loss: 0.9348 - accuracy: 0.6992 - val_loss: 0.7649 - val_accuracy: 0.8283\n",
            "Epoch 64/100\n",
            "10/10 [==============================] - 0s 14ms/step - loss: 0.9080 - accuracy: 0.7108 - val_loss: 0.7531 - val_accuracy: 0.8283\n",
            "Epoch 65/100\n",
            "10/10 [==============================] - 0s 15ms/step - loss: 0.9147 - accuracy: 0.7025 - val_loss: 0.7384 - val_accuracy: 0.8267\n",
            "Epoch 66/100\n",
            "10/10 [==============================] - 0s 13ms/step - loss: 0.8772 - accuracy: 0.7237 - val_loss: 0.7270 - val_accuracy: 0.8300\n",
            "Epoch 67/100\n",
            "10/10 [==============================] - 0s 15ms/step - loss: 0.8633 - accuracy: 0.7392 - val_loss: 0.7149 - val_accuracy: 0.8383\n",
            "Epoch 68/100\n",
            "10/10 [==============================] - 0s 15ms/step - loss: 0.8638 - accuracy: 0.7208 - val_loss: 0.7017 - val_accuracy: 0.8483\n",
            "Epoch 69/100\n",
            "10/10 [==============================] - 0s 15ms/step - loss: 0.8618 - accuracy: 0.7229 - val_loss: 0.6876 - val_accuracy: 0.8517\n",
            "Epoch 70/100\n",
            "10/10 [==============================] - 0s 15ms/step - loss: 0.8499 - accuracy: 0.7337 - val_loss: 0.6755 - val_accuracy: 0.8567\n",
            "Epoch 71/100\n",
            "10/10 [==============================] - 0s 16ms/step - loss: 0.8590 - accuracy: 0.7179 - val_loss: 0.6667 - val_accuracy: 0.8600\n",
            "Epoch 72/100\n",
            "10/10 [==============================] - 0s 14ms/step - loss: 0.8364 - accuracy: 0.7404 - val_loss: 0.6550 - val_accuracy: 0.8633\n",
            "Epoch 73/100\n",
            "10/10 [==============================] - 0s 15ms/step - loss: 0.8305 - accuracy: 0.7392 - val_loss: 0.6452 - val_accuracy: 0.8633\n",
            "Epoch 74/100\n",
            "10/10 [==============================] - 0s 13ms/step - loss: 0.8109 - accuracy: 0.7437 - val_loss: 0.6373 - val_accuracy: 0.8617\n",
            "Epoch 75/100\n",
            "10/10 [==============================] - 0s 14ms/step - loss: 0.8026 - accuracy: 0.7471 - val_loss: 0.6277 - val_accuracy: 0.8633\n",
            "Epoch 76/100\n",
            "10/10 [==============================] - 0s 15ms/step - loss: 0.7900 - accuracy: 0.7471 - val_loss: 0.6185 - val_accuracy: 0.8683\n",
            "Epoch 77/100\n",
            "10/10 [==============================] - 0s 17ms/step - loss: 0.7925 - accuracy: 0.7596 - val_loss: 0.6131 - val_accuracy: 0.8767\n",
            "Epoch 78/100\n",
            "10/10 [==============================] - 0s 15ms/step - loss: 0.7832 - accuracy: 0.7558 - val_loss: 0.6057 - val_accuracy: 0.8783\n",
            "Epoch 79/100\n",
            "10/10 [==============================] - 0s 14ms/step - loss: 0.7699 - accuracy: 0.7654 - val_loss: 0.5994 - val_accuracy: 0.8750\n",
            "Epoch 80/100\n",
            "10/10 [==============================] - 0s 16ms/step - loss: 0.7508 - accuracy: 0.7679 - val_loss: 0.5935 - val_accuracy: 0.8750\n",
            "Epoch 81/100\n",
            "10/10 [==============================] - 0s 14ms/step - loss: 0.7364 - accuracy: 0.7729 - val_loss: 0.5863 - val_accuracy: 0.8733\n",
            "Epoch 82/100\n",
            "10/10 [==============================] - 0s 14ms/step - loss: 0.7301 - accuracy: 0.7825 - val_loss: 0.5788 - val_accuracy: 0.8817\n",
            "Epoch 83/100\n",
            "10/10 [==============================] - 0s 16ms/step - loss: 0.7541 - accuracy: 0.7679 - val_loss: 0.5761 - val_accuracy: 0.8867\n",
            "Epoch 84/100\n",
            "10/10 [==============================] - 0s 16ms/step - loss: 0.7246 - accuracy: 0.7688 - val_loss: 0.5647 - val_accuracy: 0.8833\n",
            "Epoch 85/100\n",
            "10/10 [==============================] - 0s 14ms/step - loss: 0.7083 - accuracy: 0.7738 - val_loss: 0.5555 - val_accuracy: 0.8817\n",
            "Epoch 86/100\n",
            "10/10 [==============================] - 0s 15ms/step - loss: 0.7105 - accuracy: 0.7721 - val_loss: 0.5512 - val_accuracy: 0.8900\n",
            "Epoch 87/100\n",
            "10/10 [==============================] - 0s 15ms/step - loss: 0.7006 - accuracy: 0.7842 - val_loss: 0.5457 - val_accuracy: 0.8883\n",
            "Epoch 88/100\n",
            "10/10 [==============================] - 0s 14ms/step - loss: 0.6884 - accuracy: 0.7879 - val_loss: 0.5395 - val_accuracy: 0.8900\n",
            "Epoch 89/100\n",
            "10/10 [==============================] - 0s 14ms/step - loss: 0.6888 - accuracy: 0.7858 - val_loss: 0.5330 - val_accuracy: 0.8867\n",
            "Epoch 90/100\n",
            "10/10 [==============================] - 0s 16ms/step - loss: 0.6808 - accuracy: 0.8000 - val_loss: 0.5308 - val_accuracy: 0.8867\n",
            "Epoch 91/100\n",
            "10/10 [==============================] - 0s 13ms/step - loss: 0.6895 - accuracy: 0.7896 - val_loss: 0.5283 - val_accuracy: 0.8850\n",
            "Epoch 92/100\n",
            "10/10 [==============================] - 0s 15ms/step - loss: 0.6777 - accuracy: 0.7975 - val_loss: 0.5246 - val_accuracy: 0.8883\n",
            "Epoch 93/100\n",
            "10/10 [==============================] - 0s 15ms/step - loss: 0.6578 - accuracy: 0.8054 - val_loss: 0.5155 - val_accuracy: 0.8950\n",
            "Epoch 94/100\n",
            "10/10 [==============================] - 0s 15ms/step - loss: 0.6516 - accuracy: 0.8054 - val_loss: 0.5075 - val_accuracy: 0.9000\n",
            "Epoch 95/100\n",
            "10/10 [==============================] - 0s 14ms/step - loss: 0.6607 - accuracy: 0.8012 - val_loss: 0.5020 - val_accuracy: 0.9000\n",
            "Epoch 96/100\n",
            "10/10 [==============================] - 0s 13ms/step - loss: 0.6532 - accuracy: 0.8042 - val_loss: 0.4992 - val_accuracy: 0.8983\n",
            "Epoch 97/100\n",
            "10/10 [==============================] - 0s 14ms/step - loss: 0.6345 - accuracy: 0.8117 - val_loss: 0.4937 - val_accuracy: 0.8967\n",
            "Epoch 98/100\n",
            "10/10 [==============================] - 0s 15ms/step - loss: 0.6509 - accuracy: 0.7950 - val_loss: 0.4910 - val_accuracy: 0.9017\n",
            "Epoch 99/100\n",
            "10/10 [==============================] - 0s 16ms/step - loss: 0.6286 - accuracy: 0.8104 - val_loss: 0.4885 - val_accuracy: 0.9017\n",
            "Epoch 100/100\n",
            "10/10 [==============================] - 0s 15ms/step - loss: 0.6084 - accuracy: 0.8250 - val_loss: 0.4833 - val_accuracy: 0.8983\n"
          ]
        }
      ]
    },
    {
      "cell_type": "markdown",
      "metadata": {
        "id": "eo8LVxmM4oTf"
      },
      "source": [
        "학습이 끝났으니 Multi-class classification 모델의 성능을 확인해 보겠습니다.  \n",
        "결과는 혼돈행렬(Confusion matrix). 형태로 표현할 것입니다."
      ]
    },
    {
      "cell_type": "code",
      "metadata": {
        "colab": {
          "base_uri": "https://localhost:8080/",
          "height": 602
        },
        "id": "yN7RTzf64nO5",
        "outputId": "22e238bd-63c3-441f-a6d7-3ab9e9e66bc1"
      },
      "source": [
        "from sklearn.metrics import confusion_matrix, multilabel_confusion_matrix, ConfusionMatrixDisplay\n",
        "\n",
        "pred_y_mc = MC_classifier(test_x)\n",
        "y_pred_mc = tf.argmax(pred_y_mc,axis=1)\n",
        "y_true_mc = tf.argmax(test_y_mc,axis=1)\n",
        "\n",
        "MCCM = confusion_matrix(y_pred_mc,y_true_mc)\n",
        "fig, ax = plt.subplots(figsize=[15,8])\n",
        "disp = ConfusionMatrixDisplay(confusion_matrix = MCCM, display_labels=Source)\n",
        "disp.plot(xticks_rotation='vertical',values_format='d',ax=ax)\n",
        "plt.tick_params(axis='both',labelsize='12')\n",
        "plt.xlabel('Predicted label',fontsize='15')\n",
        "plt.ylabel('True label',fontsize='15')\n",
        "fig.tight_layout()\n",
        "plt.show()\n",
        "print('Accuracy: %s %%' %((MCCM[0,0]+MCCM[1,1]+MCCM[2,2]+MCCM[3,3]+MCCM[4,4]+MCCM[5,5]+MCCM[6,6]+MCCM[7,7])/sum(sum(MCCM))*100))\n"
      ],
      "execution_count": null,
      "outputs": [
        {
          "data": {
            "image/png": "[encoded data removed]",
            "text/plain": [
              "<Figure size 1080x576 with 2 Axes>"
            ]
          },
          "metadata": {
            "tags": []
          },
          "output_type": "display_data"
        },
        {
          "name": "stdout",
          "output_type": "stream",
          "text": [
            "Accuracy: 67.0 %\n"
          ]
        }
      ]
    },
    {
      "cell_type": "code",
      "metadata": {
        "colab": {
          "base_uri": "https://localhost:8080/"
        },
        "id": "L9S8ranyjmCX",
        "outputId": "f2d54840-e0ec-422d-f1b9-a8e8c676b9bb"
      },
      "source": [
        "ES_ML = tf.keras.callbacks.EarlyStopping(monitor='val_binary_accuracy',patience=100,restore_best_weights=True)\n",
        "\n",
        "history_ML = ML_classifier.fit(x=train_x,y=train_y_ml,validation_data=(val_x,val_y_ml),batch_size=2**8,epochs=100,validation_split=0.2,callbacks=[ES_ML])"
      ],
      "execution_count": null,
      "outputs": [
        {
          "name": "stdout",
          "output_type": "stream",
          "text": [
            "Epoch 1/100\n",
            "10/10 [==============================] - 1s 39ms/step - loss: 0.8852 - binary_accuracy: 0.4940 - val_loss: 0.7277 - val_binary_accuracy: 0.4972\n",
            "Epoch 2/100\n",
            "10/10 [==============================] - 0s 14ms/step - loss: 0.8321 - binary_accuracy: 0.5339 - val_loss: 0.7163 - val_binary_accuracy: 0.4983\n",
            "Epoch 3/100\n",
            "10/10 [==============================] - 0s 13ms/step - loss: 0.7916 - binary_accuracy: 0.5483 - val_loss: 0.7061 - val_binary_accuracy: 0.5044\n",
            "Epoch 4/100\n",
            "10/10 [==============================] - 0s 13ms/step - loss: 0.7572 - binary_accuracy: 0.5760 - val_loss: 0.6968 - val_binary_accuracy: 0.5061\n",
            "Epoch 5/100\n",
            "10/10 [==============================] - 0s 13ms/step - loss: 0.7192 - binary_accuracy: 0.5961 - val_loss: 0.6873 - val_binary_accuracy: 0.5117\n",
            "Epoch 6/100\n",
            "10/10 [==============================] - 0s 14ms/step - loss: 0.7050 - binary_accuracy: 0.6049 - val_loss: 0.6771 - val_binary_accuracy: 0.5328\n",
            "Epoch 7/100\n",
            "10/10 [==============================] - 0s 13ms/step - loss: 0.6743 - binary_accuracy: 0.6275 - val_loss: 0.6666 - val_binary_accuracy: 0.5711\n",
            "Epoch 8/100\n",
            "10/10 [==============================] - 0s 13ms/step - loss: 0.6524 - binary_accuracy: 0.6472 - val_loss: 0.6551 - val_binary_accuracy: 0.6117\n",
            "Epoch 9/100\n",
            "10/10 [==============================] - 0s 13ms/step - loss: 0.6445 - binary_accuracy: 0.6576 - val_loss: 0.6429 - val_binary_accuracy: 0.6344\n",
            "Epoch 10/100\n",
            "10/10 [==============================] - 0s 15ms/step - loss: 0.6231 - binary_accuracy: 0.6689 - val_loss: 0.6299 - val_binary_accuracy: 0.6544\n",
            "Epoch 11/100\n",
            "10/10 [==============================] - 0s 13ms/step - loss: 0.6008 - binary_accuracy: 0.6851 - val_loss: 0.6166 - val_binary_accuracy: 0.6844\n",
            "Epoch 12/100\n",
            "10/10 [==============================] - 0s 15ms/step - loss: 0.5928 - binary_accuracy: 0.6936 - val_loss: 0.6034 - val_binary_accuracy: 0.7011\n",
            "Epoch 13/100\n",
            "10/10 [==============================] - 0s 15ms/step - loss: 0.5792 - binary_accuracy: 0.6979 - val_loss: 0.5894 - val_binary_accuracy: 0.7161\n",
            "Epoch 14/100\n",
            "10/10 [==============================] - 0s 13ms/step - loss: 0.5697 - binary_accuracy: 0.7071 - val_loss: 0.5754 - val_binary_accuracy: 0.7333\n",
            "Epoch 15/100\n",
            "10/10 [==============================] - 0s 14ms/step - loss: 0.5589 - binary_accuracy: 0.7136 - val_loss: 0.5618 - val_binary_accuracy: 0.7489\n",
            "Epoch 16/100\n",
            "10/10 [==============================] - 0s 16ms/step - loss: 0.5523 - binary_accuracy: 0.7264 - val_loss: 0.5489 - val_binary_accuracy: 0.7672\n",
            "Epoch 17/100\n",
            "10/10 [==============================] - 0s 14ms/step - loss: 0.5387 - binary_accuracy: 0.7274 - val_loss: 0.5362 - val_binary_accuracy: 0.7806\n",
            "Epoch 18/100\n",
            "10/10 [==============================] - 0s 14ms/step - loss: 0.5272 - binary_accuracy: 0.7383 - val_loss: 0.5245 - val_binary_accuracy: 0.7911\n",
            "Epoch 19/100\n",
            "10/10 [==============================] - 0s 14ms/step - loss: 0.5182 - binary_accuracy: 0.7465 - val_loss: 0.5122 - val_binary_accuracy: 0.7978\n",
            "Epoch 20/100\n",
            "10/10 [==============================] - 0s 14ms/step - loss: 0.5035 - binary_accuracy: 0.7532 - val_loss: 0.5009 - val_binary_accuracy: 0.8039\n",
            "Epoch 21/100\n",
            "10/10 [==============================] - 0s 14ms/step - loss: 0.4914 - binary_accuracy: 0.7632 - val_loss: 0.4901 - val_binary_accuracy: 0.8061\n",
            "Epoch 22/100\n",
            "10/10 [==============================] - 0s 13ms/step - loss: 0.4901 - binary_accuracy: 0.7675 - val_loss: 0.4793 - val_binary_accuracy: 0.8111\n",
            "Epoch 23/100\n",
            "10/10 [==============================] - 0s 15ms/step - loss: 0.4876 - binary_accuracy: 0.7663 - val_loss: 0.4701 - val_binary_accuracy: 0.8122\n",
            "Epoch 24/100\n",
            "10/10 [==============================] - 0s 14ms/step - loss: 0.4690 - binary_accuracy: 0.7792 - val_loss: 0.4613 - val_binary_accuracy: 0.8172\n",
            "Epoch 25/100\n",
            "10/10 [==============================] - 0s 14ms/step - loss: 0.4615 - binary_accuracy: 0.7836 - val_loss: 0.4521 - val_binary_accuracy: 0.8222\n",
            "Epoch 26/100\n",
            "10/10 [==============================] - 0s 15ms/step - loss: 0.4547 - binary_accuracy: 0.7933 - val_loss: 0.4433 - val_binary_accuracy: 0.8283\n",
            "Epoch 27/100\n",
            "10/10 [==============================] - 0s 15ms/step - loss: 0.4512 - binary_accuracy: 0.7939 - val_loss: 0.4343 - val_binary_accuracy: 0.8328\n",
            "Epoch 28/100\n",
            "10/10 [==============================] - 0s 15ms/step - loss: 0.4483 - binary_accuracy: 0.7921 - val_loss: 0.4264 - val_binary_accuracy: 0.8344\n",
            "Epoch 29/100\n",
            "10/10 [==============================] - 0s 14ms/step - loss: 0.4403 - binary_accuracy: 0.8011 - val_loss: 0.4185 - val_binary_accuracy: 0.8378\n",
            "Epoch 30/100\n",
            "10/10 [==============================] - 0s 15ms/step - loss: 0.4251 - binary_accuracy: 0.8050 - val_loss: 0.4106 - val_binary_accuracy: 0.8422\n",
            "Epoch 31/100\n",
            "10/10 [==============================] - 0s 13ms/step - loss: 0.4212 - binary_accuracy: 0.8163 - val_loss: 0.4032 - val_binary_accuracy: 0.8506\n",
            "Epoch 32/100\n",
            "10/10 [==============================] - 0s 13ms/step - loss: 0.4160 - binary_accuracy: 0.8143 - val_loss: 0.3953 - val_binary_accuracy: 0.8578\n",
            "Epoch 33/100\n",
            "10/10 [==============================] - 0s 13ms/step - loss: 0.4094 - binary_accuracy: 0.8235 - val_loss: 0.3878 - val_binary_accuracy: 0.8594\n",
            "Epoch 34/100\n",
            "10/10 [==============================] - 0s 15ms/step - loss: 0.4040 - binary_accuracy: 0.8226 - val_loss: 0.3808 - val_binary_accuracy: 0.8644\n",
            "Epoch 35/100\n",
            "10/10 [==============================] - 0s 13ms/step - loss: 0.4014 - binary_accuracy: 0.8271 - val_loss: 0.3738 - val_binary_accuracy: 0.8656\n",
            "Epoch 36/100\n",
            "10/10 [==============================] - 0s 15ms/step - loss: 0.3918 - binary_accuracy: 0.8311 - val_loss: 0.3655 - val_binary_accuracy: 0.8711\n",
            "Epoch 37/100\n",
            "10/10 [==============================] - 0s 13ms/step - loss: 0.3830 - binary_accuracy: 0.8376 - val_loss: 0.3582 - val_binary_accuracy: 0.8739\n",
            "Epoch 38/100\n",
            "10/10 [==============================] - 0s 14ms/step - loss: 0.3815 - binary_accuracy: 0.8406 - val_loss: 0.3524 - val_binary_accuracy: 0.8756\n",
            "Epoch 39/100\n",
            "10/10 [==============================] - 0s 14ms/step - loss: 0.3745 - binary_accuracy: 0.8401 - val_loss: 0.3468 - val_binary_accuracy: 0.8817\n",
            "Epoch 40/100\n",
            "10/10 [==============================] - 0s 14ms/step - loss: 0.3709 - binary_accuracy: 0.8424 - val_loss: 0.3401 - val_binary_accuracy: 0.8861\n",
            "Epoch 41/100\n",
            "10/10 [==============================] - 0s 15ms/step - loss: 0.3620 - binary_accuracy: 0.8501 - val_loss: 0.3322 - val_binary_accuracy: 0.8928\n",
            "Epoch 42/100\n",
            "10/10 [==============================] - 0s 13ms/step - loss: 0.3608 - binary_accuracy: 0.8512 - val_loss: 0.3244 - val_binary_accuracy: 0.8961\n",
            "Epoch 43/100\n",
            "10/10 [==============================] - 0s 15ms/step - loss: 0.3582 - binary_accuracy: 0.8526 - val_loss: 0.3179 - val_binary_accuracy: 0.9028\n",
            "Epoch 44/100\n",
            "10/10 [==============================] - 0s 13ms/step - loss: 0.3548 - binary_accuracy: 0.8569 - val_loss: 0.3118 - val_binary_accuracy: 0.9072\n",
            "Epoch 45/100\n",
            "10/10 [==============================] - 0s 16ms/step - loss: 0.3472 - binary_accuracy: 0.8593 - val_loss: 0.3072 - val_binary_accuracy: 0.9094\n",
            "Epoch 46/100\n",
            "10/10 [==============================] - 0s 13ms/step - loss: 0.3377 - binary_accuracy: 0.8685 - val_loss: 0.3030 - val_binary_accuracy: 0.9072\n",
            "Epoch 47/100\n",
            "10/10 [==============================] - 0s 15ms/step - loss: 0.3311 - binary_accuracy: 0.8664 - val_loss: 0.2974 - val_binary_accuracy: 0.9094\n",
            "Epoch 48/100\n",
            "10/10 [==============================] - 0s 13ms/step - loss: 0.3429 - binary_accuracy: 0.8636 - val_loss: 0.2913 - val_binary_accuracy: 0.9083\n",
            "Epoch 49/100\n",
            "10/10 [==============================] - 0s 13ms/step - loss: 0.3315 - binary_accuracy: 0.8653 - val_loss: 0.2849 - val_binary_accuracy: 0.9133\n",
            "Epoch 50/100\n",
            "10/10 [==============================] - 0s 15ms/step - loss: 0.3199 - binary_accuracy: 0.8790 - val_loss: 0.2804 - val_binary_accuracy: 0.9183\n",
            "Epoch 51/100\n",
            "10/10 [==============================] - 0s 15ms/step - loss: 0.3204 - binary_accuracy: 0.8729 - val_loss: 0.2765 - val_binary_accuracy: 0.9200\n",
            "Epoch 52/100\n",
            "10/10 [==============================] - 0s 15ms/step - loss: 0.3211 - binary_accuracy: 0.8736 - val_loss: 0.2732 - val_binary_accuracy: 0.9211\n",
            "Epoch 53/100\n",
            "10/10 [==============================] - 0s 15ms/step - loss: 0.3126 - binary_accuracy: 0.8790 - val_loss: 0.2696 - val_binary_accuracy: 0.9217\n",
            "Epoch 54/100\n",
            "10/10 [==============================] - 0s 13ms/step - loss: 0.3078 - binary_accuracy: 0.8821 - val_loss: 0.2655 - val_binary_accuracy: 0.9228\n",
            "Epoch 55/100\n",
            "10/10 [==============================] - 0s 15ms/step - loss: 0.3026 - binary_accuracy: 0.8864 - val_loss: 0.2618 - val_binary_accuracy: 0.9244\n",
            "Epoch 56/100\n",
            "10/10 [==============================] - 0s 14ms/step - loss: 0.2988 - binary_accuracy: 0.8883 - val_loss: 0.2567 - val_binary_accuracy: 0.9261\n",
            "Epoch 57/100\n",
            "10/10 [==============================] - 0s 14ms/step - loss: 0.3002 - binary_accuracy: 0.8843 - val_loss: 0.2527 - val_binary_accuracy: 0.9294\n",
            "Epoch 58/100\n",
            "10/10 [==============================] - 0s 15ms/step - loss: 0.2942 - binary_accuracy: 0.8904 - val_loss: 0.2496 - val_binary_accuracy: 0.9289\n",
            "Epoch 59/100\n",
            "10/10 [==============================] - 0s 15ms/step - loss: 0.2914 - binary_accuracy: 0.8933 - val_loss: 0.2460 - val_binary_accuracy: 0.9300\n",
            "Epoch 60/100\n",
            "10/10 [==============================] - 0s 15ms/step - loss: 0.2864 - binary_accuracy: 0.8953 - val_loss: 0.2434 - val_binary_accuracy: 0.9294\n",
            "Epoch 61/100\n",
            "10/10 [==============================] - 0s 13ms/step - loss: 0.2818 - binary_accuracy: 0.8950 - val_loss: 0.2412 - val_binary_accuracy: 0.9306\n",
            "Epoch 62/100\n",
            "10/10 [==============================] - 0s 14ms/step - loss: 0.2810 - binary_accuracy: 0.8940 - val_loss: 0.2374 - val_binary_accuracy: 0.9306\n",
            "Epoch 63/100\n",
            "10/10 [==============================] - 0s 12ms/step - loss: 0.2725 - binary_accuracy: 0.9038 - val_loss: 0.2340 - val_binary_accuracy: 0.9339\n",
            "Epoch 64/100\n",
            "10/10 [==============================] - 0s 17ms/step - loss: 0.2721 - binary_accuracy: 0.9031 - val_loss: 0.2321 - val_binary_accuracy: 0.9328\n",
            "Epoch 65/100\n",
            "10/10 [==============================] - 0s 13ms/step - loss: 0.2673 - binary_accuracy: 0.9060 - val_loss: 0.2285 - val_binary_accuracy: 0.9339\n",
            "Epoch 66/100\n",
            "10/10 [==============================] - 0s 14ms/step - loss: 0.2624 - binary_accuracy: 0.9050 - val_loss: 0.2256 - val_binary_accuracy: 0.9339\n",
            "Epoch 67/100\n",
            "10/10 [==============================] - 0s 15ms/step - loss: 0.2616 - binary_accuracy: 0.9047 - val_loss: 0.2224 - val_binary_accuracy: 0.9361\n",
            "Epoch 68/100\n",
            "10/10 [==============================] - 0s 15ms/step - loss: 0.2595 - binary_accuracy: 0.9087 - val_loss: 0.2190 - val_binary_accuracy: 0.9367\n",
            "Epoch 69/100\n",
            "10/10 [==============================] - 0s 13ms/step - loss: 0.2606 - binary_accuracy: 0.9069 - val_loss: 0.2181 - val_binary_accuracy: 0.9367\n",
            "Epoch 70/100\n",
            "10/10 [==============================] - 0s 15ms/step - loss: 0.2540 - binary_accuracy: 0.9110 - val_loss: 0.2155 - val_binary_accuracy: 0.9378\n",
            "Epoch 71/100\n",
            "10/10 [==============================] - 0s 16ms/step - loss: 0.2462 - binary_accuracy: 0.9168 - val_loss: 0.2116 - val_binary_accuracy: 0.9394\n",
            "Epoch 72/100\n",
            "10/10 [==============================] - 0s 15ms/step - loss: 0.2455 - binary_accuracy: 0.9158 - val_loss: 0.2080 - val_binary_accuracy: 0.9394\n",
            "Epoch 73/100\n",
            "10/10 [==============================] - 0s 15ms/step - loss: 0.2445 - binary_accuracy: 0.9156 - val_loss: 0.2044 - val_binary_accuracy: 0.9417\n",
            "Epoch 74/100\n",
            "10/10 [==============================] - 0s 12ms/step - loss: 0.2378 - binary_accuracy: 0.9181 - val_loss: 0.2020 - val_binary_accuracy: 0.9444\n",
            "Epoch 75/100\n",
            "10/10 [==============================] - 0s 14ms/step - loss: 0.2456 - binary_accuracy: 0.9131 - val_loss: 0.1997 - val_binary_accuracy: 0.9461\n",
            "Epoch 76/100\n",
            "10/10 [==============================] - 0s 14ms/step - loss: 0.2383 - binary_accuracy: 0.9158 - val_loss: 0.1971 - val_binary_accuracy: 0.9472\n",
            "Epoch 77/100\n",
            "10/10 [==============================] - 0s 15ms/step - loss: 0.2321 - binary_accuracy: 0.9224 - val_loss: 0.1944 - val_binary_accuracy: 0.9456\n",
            "Epoch 78/100\n",
            "10/10 [==============================] - 0s 14ms/step - loss: 0.2322 - binary_accuracy: 0.9210 - val_loss: 0.1913 - val_binary_accuracy: 0.9517\n",
            "Epoch 79/100\n",
            "10/10 [==============================] - 0s 14ms/step - loss: 0.2306 - binary_accuracy: 0.9206 - val_loss: 0.1890 - val_binary_accuracy: 0.9522\n",
            "Epoch 80/100\n",
            "10/10 [==============================] - 0s 14ms/step - loss: 0.2250 - binary_accuracy: 0.9260 - val_loss: 0.1874 - val_binary_accuracy: 0.9494\n",
            "Epoch 81/100\n",
            "10/10 [==============================] - 0s 15ms/step - loss: 0.2268 - binary_accuracy: 0.9214 - val_loss: 0.1862 - val_binary_accuracy: 0.9511\n",
            "Epoch 82/100\n",
            "10/10 [==============================] - 0s 13ms/step - loss: 0.2223 - binary_accuracy: 0.9237 - val_loss: 0.1847 - val_binary_accuracy: 0.9506\n",
            "Epoch 83/100\n",
            "10/10 [==============================] - 0s 16ms/step - loss: 0.2195 - binary_accuracy: 0.9278 - val_loss: 0.1826 - val_binary_accuracy: 0.9517\n",
            "Epoch 84/100\n",
            "10/10 [==============================] - 0s 15ms/step - loss: 0.2180 - binary_accuracy: 0.9283 - val_loss: 0.1799 - val_binary_accuracy: 0.9522\n",
            "Epoch 85/100\n",
            "10/10 [==============================] - 0s 14ms/step - loss: 0.2198 - binary_accuracy: 0.9256 - val_loss: 0.1805 - val_binary_accuracy: 0.9506\n",
            "Epoch 86/100\n",
            "10/10 [==============================] - 0s 15ms/step - loss: 0.2153 - binary_accuracy: 0.9282 - val_loss: 0.1790 - val_binary_accuracy: 0.9500\n",
            "Epoch 87/100\n",
            "10/10 [==============================] - 0s 13ms/step - loss: 0.2135 - binary_accuracy: 0.9251 - val_loss: 0.1757 - val_binary_accuracy: 0.9522\n",
            "Epoch 88/100\n",
            "10/10 [==============================] - 0s 14ms/step - loss: 0.2072 - binary_accuracy: 0.9297 - val_loss: 0.1735 - val_binary_accuracy: 0.9556\n",
            "Epoch 89/100\n",
            "10/10 [==============================] - 0s 14ms/step - loss: 0.2046 - binary_accuracy: 0.9325 - val_loss: 0.1708 - val_binary_accuracy: 0.9567\n",
            "Epoch 90/100\n",
            "10/10 [==============================] - 0s 15ms/step - loss: 0.2060 - binary_accuracy: 0.9331 - val_loss: 0.1690 - val_binary_accuracy: 0.9583\n",
            "Epoch 91/100\n",
            "10/10 [==============================] - 0s 14ms/step - loss: 0.2020 - binary_accuracy: 0.9344 - val_loss: 0.1667 - val_binary_accuracy: 0.9606\n",
            "Epoch 92/100\n",
            "10/10 [==============================] - 0s 13ms/step - loss: 0.2021 - binary_accuracy: 0.9342 - val_loss: 0.1650 - val_binary_accuracy: 0.9606\n",
            "Epoch 93/100\n",
            "10/10 [==============================] - 0s 14ms/step - loss: 0.1968 - binary_accuracy: 0.9362 - val_loss: 0.1642 - val_binary_accuracy: 0.9600\n",
            "Epoch 94/100\n",
            "10/10 [==============================] - 0s 14ms/step - loss: 0.1952 - binary_accuracy: 0.9368 - val_loss: 0.1627 - val_binary_accuracy: 0.9600\n",
            "Epoch 95/100\n",
            "10/10 [==============================] - 0s 14ms/step - loss: 0.1894 - binary_accuracy: 0.9407 - val_loss: 0.1608 - val_binary_accuracy: 0.9600\n",
            "Epoch 96/100\n",
            "10/10 [==============================] - 0s 15ms/step - loss: 0.1922 - binary_accuracy: 0.9386 - val_loss: 0.1593 - val_binary_accuracy: 0.9594\n",
            "Epoch 97/100\n",
            "10/10 [==============================] - 0s 14ms/step - loss: 0.1882 - binary_accuracy: 0.9417 - val_loss: 0.1581 - val_binary_accuracy: 0.9589\n",
            "Epoch 98/100\n",
            "10/10 [==============================] - 0s 15ms/step - loss: 0.1846 - binary_accuracy: 0.9424 - val_loss: 0.1566 - val_binary_accuracy: 0.9583\n",
            "Epoch 99/100\n",
            "10/10 [==============================] - 0s 15ms/step - loss: 0.1835 - binary_accuracy: 0.9436 - val_loss: 0.1554 - val_binary_accuracy: 0.9583\n",
            "Epoch 100/100\n",
            "10/10 [==============================] - 0s 16ms/step - loss: 0.1802 - binary_accuracy: 0.9439 - val_loss: 0.1547 - val_binary_accuracy: 0.9622\n"
          ]
        }
      ]
    },
    {
      "cell_type": "markdown",
      "metadata": {
        "id": "MkjEaL7D9BsB"
      },
      "source": [
        "학습이 끝났으니 Multi-label classification 모델의 성능을 확인해보겠습니다.    \n",
        "결과는 마찬가지로 혼돈행렬(confusion matrix)로 볼 것입니다.  \n",
        "본 모델은 각 label 을 binary classification 하도록 설계되어, 혼돈 행렬이 각 label 마다 있습니다.  \n",
        "각 label의 혼돈행렬은 다음과 같은 결과를 나타냅니다.  \n",
        "[ True Negative(TN)  False Negative (FN) ]   \n",
        "[ False Positive(FP) True Positive (TP)  ]  \n",
        "TN: false를 false로 call  \n",
        "FN: true를 false로 call  \n",
        "FP: false를 true로 call    \n",
        "TP: true를 true로 call  \n",
        "\n",
        "\n"
      ]
    },
    {
      "cell_type": "code",
      "metadata": {
        "colab": {
          "background_save": true
        },
        "id": "7bK4IMLu5NRK",
        "outputId": "0b2de32a-27c7-4bd3-82f6-23ac0846092a"
      },
      "source": [
        "pred_y_ml = ML_classifier(test_x)\n",
        "y_pred_ml = np.round(pred_y_ml)\n",
        "\n",
        "MLCM = multilabel_confusion_matrix(test_y_ml,y_pred_ml)\n",
        "\n",
        "fig, (ax1, ax2, ax3) = plt.subplots(1, 3, figsize=(16, 8))\n",
        "disp0 = ConfusionMatrixDisplay(confusion_matrix = MLCM[0], display_labels=['True','False'])\n",
        "disp0.plot(xticks_rotation='vertical',values_format='d',ax=ax1)\n",
        "ax1.set_title('Na22',fontsize=20)\n",
        "ax1.tick_params(axis='both',labelsize='18')\n",
        "disp1 = ConfusionMatrixDisplay(confusion_matrix = MLCM[1], display_labels=['True','False'])\n",
        "disp1.plot(xticks_rotation='vertical',values_format='d',ax=ax2)\n",
        "ax2.set_title('Co60',fontsize=20)\n",
        "ax2.tick_params(axis='both',labelsize='18')\n",
        "disp2 = ConfusionMatrixDisplay(confusion_matrix = MLCM[2], display_labels=['True','False'])\n",
        "disp2.plot(xticks_rotation='vertical',values_format='d',ax=ax3)\n",
        "ax3.set_title('Cs137',fontsize=20)\n",
        "ax3.tick_params(axis='both',labelsize='18')\n",
        "fig.tight_layout()\n",
        "plt.show()\n",
        "\n",
        "\n",
        "acc_label1 = (MLCM[0][0][0]+MLCM[0][1][1])/sum(sum(MLCM[0])) * 100\n",
        "acc_label2 = (MLCM[1][0][0]+MLCM[1][1][1])/sum(sum(MLCM[1])) * 100\n",
        "acc_label3 = (MLCM[2][0][0]+MLCM[2][1][1])/sum(sum(MLCM[2])) * 100\n",
        "print('Accuracy for Na22: %s %%, for Co60: %s %% , for Cs137: %s %%, for total: %s %%'%(acc_label1,acc_label2,acc_label3,(acc_label1+acc_label2+acc_label3)/3))\n",
        "\n"
      ],
      "execution_count": null,
      "outputs": [
        {
          "ename": "NameError",
          "evalue": "ignored",
          "output_type": "error",
          "traceback": [
            "\u001b[0;31m---------------------------------------------------------------------------\u001b[0m",
            "\u001b[0;31mNameError\u001b[0m                                 Traceback (most recent call last)",
            "\u001b[0;32m<ipython-input-1-5102ee045695>\u001b[0m in \u001b[0;36m<module>\u001b[0;34m()\u001b[0m\n\u001b[0;32m----> 1\u001b[0;31m \u001b[0mpred_y_ml\u001b[0m \u001b[0;34m=\u001b[0m \u001b[0mML_classifier\u001b[0m\u001b[0;34m(\u001b[0m\u001b[0mtest_x\u001b[0m\u001b[0;34m)\u001b[0m\u001b[0;34m\u001b[0m\u001b[0;34m\u001b[0m\u001b[0m\n\u001b[0m\u001b[1;32m      2\u001b[0m \u001b[0my_pred_ml\u001b[0m \u001b[0;34m=\u001b[0m \u001b[0mnp\u001b[0m\u001b[0;34m.\u001b[0m\u001b[0mround\u001b[0m\u001b[0;34m(\u001b[0m\u001b[0mpred_y_ml\u001b[0m\u001b[0;34m)\u001b[0m\u001b[0;34m\u001b[0m\u001b[0;34m\u001b[0m\u001b[0m\n\u001b[1;32m      3\u001b[0m \u001b[0;34m\u001b[0m\u001b[0m\n\u001b[1;32m      4\u001b[0m \u001b[0mMLCM\u001b[0m \u001b[0;34m=\u001b[0m \u001b[0mmultilabel_confusion_matrix\u001b[0m\u001b[0;34m(\u001b[0m\u001b[0mtest_y_ml\u001b[0m\u001b[0;34m,\u001b[0m\u001b[0my_pred_ml\u001b[0m\u001b[0;34m)\u001b[0m\u001b[0;34m\u001b[0m\u001b[0;34m\u001b[0m\u001b[0m\n\u001b[1;32m      5\u001b[0m \u001b[0;34m\u001b[0m\u001b[0m\n",
            "\u001b[0;31mNameError\u001b[0m: name 'ML_classifier' is not defined"
          ]
        }
      ]
    },
    {
      "cell_type": "markdown",
      "metadata": {
        "id": "nHTDMi9K_uW6"
      },
      "source": [
        "## Keras tuner를 이용한 하이퍼 파라미터 탐색\n",
        "모델의 하이퍼파라미터를 탐색하는 과정을 소개합니다.  \n",
        "본 실습에서는 keras-tuner를 이용하여 하이퍼파라미터를 튜닝 할 것입니다.  \n",
        "아래 셀의 코드를 실행하여 colab 환경에서 keras tuner를 설치하고 불러 옵니다."
      ]
    },
    {
      "cell_type": "code",
      "metadata": {
        "id": "r8YKgRWIGAXG"
      },
      "source": [
        "!pip install -q -U keras-tuner\n",
        "import kerastuner as kt"
      ],
      "execution_count": null,
      "outputs": []
    },
    {
      "cell_type": "markdown",
      "metadata": {
        "id": "JNf0AY1vnnLe"
      },
      "source": [
        "튜너를 불러왔다면, 이제 튜닝을 위한 모델 함수를 정의합니다.  \n",
        "(시간관계상 Multi-class classification 모델에 대한 파라미터 튜닝만을 다루겠습니다.)  \n",
        "hp는 하이퍼파라미터 튜닝을 위한 변수들입니다. 변수의 범위는 아래와 같이 지정 가능합니다  \n",
        "ex) hp.Range('units', min_value=16, max_value=512, step=16) (특정 범위의 정수)  \n",
        "모델 정의에서 반환해야할 것은 컴파일까지 완료된 모델입니다.\n"
      ]
    },
    {
      "cell_type": "code",
      "metadata": {
        "id": "OyuxdsjqncuD"
      },
      "source": [
        "def model_builder(hp):\n",
        "  model = tf.keras.Sequential()\n",
        "  ## 은닉층의 개수는 2~5까지)\n",
        "  for i in range(hp.Int('num_layers',min_value=2,max_value=5,step=1)):\n",
        "    model.add(tf.keras.layers.Dense(units = hp.Int('Neurons_@%s_layer'%(i+1),\n",
        "                                    min_value=16,max_value=512,step=16),\n",
        "                                    activation='relu'))\n",
        "  model.add(tf.keras.layers.Dense(8,activation='softmax'))\n",
        "\n",
        "  model.compile(\n",
        "      optimizer = tf.keras.optimizers.Adam(1e-3),\n",
        "      loss = 'categorical_crossentropy',\n",
        "      metrics=['accuracy'])\n",
        "  return model\n",
        "  "
      ],
      "execution_count": null,
      "outputs": []
    },
    {
      "cell_type": "markdown",
      "metadata": {
        "id": "hSDq-pyxrIjU"
      },
      "source": [
        "모델을 정의했으니, 튜너를 정의하고 수행하면 됩니다.  \n",
        "keras tuner에서는 RandomSearch, BayesianOptimization, Hyperband 이렇게 세가지 방법으로 튜닝을 할 수 있습니다,  \n",
        "본 실습에서는 Bayesian optimization을 활용합니다.  "
      ]
    },
    {
      "cell_type": "code",
      "metadata": {
        "id": "F3XdWRvnrBw1"
      },
      "source": [
        "from kerastuner.tuners import Hyperband\n",
        "## 최대 탐색 횟수, 탬색에서 빌드할 모델의 갯수에 따라 결과가 달라질 수 있습니다.\n",
        "HyperTuner = Hyperband(\n",
        "    model_builder, ## 모델 함수\n",
        "    objective = 'val_accuracy', ## 최소화 하고자 하는 목적함수\n",
        "    max_epochs = 50, ## 최대 탐색 횟수\n",
        "    factor=3, ## 한번의 탐색에서 빌드하고 학습할 모델의 개수. 2이상으로 설정하면 한번의 탐색에서 같은 파라미터로 모델을 여러개 돌려봄.\n",
        "    overwrite=True,\n",
        "    directory=\"./\",\n",
        "    project_name='MC_classifier_tuning')\n",
        "\n",
        "## epochs 설정에 따라 결과가 달라질 수 있습니다.\n",
        "HyperTuner.search(x=train_x,y=train_y_mc, \n",
        "                     epochs=100,\n",
        "                     validation_data=(val_x,val_y_mc))\n",
        "\n"
      ],
      "execution_count": null,
      "outputs": []
    },
    {
      "cell_type": "code",
      "metadata": {
        "id": "nPB46DJI6RXH"
      },
      "source": [
        "## 튜닝 결과 보기. 성능이 높은 순서로 내림차순.\n",
        "HyperTuner.results_summary ()"
      ],
      "execution_count": null,
      "outputs": []
    },
    {
      "cell_type": "markdown",
      "metadata": {
        "id": "zcfkgi2Qw62T"
      },
      "source": [
        "탐색이 끝났으면 최적의 하이퍼파라미터로 모델을 빌드, 훈련시킵니다.\n",
        "\n"
      ]
    },
    {
      "cell_type": "code",
      "metadata": {
        "id": "l5nLfczwv_8J"
      },
      "source": [
        "best_parameters = HyperTuner.get_best_hyperparameters(num_trials=1)[0]\n",
        "MC_classifier_tuned = HyperTuner.hypermodel.build(best_parameters)\n",
        "\n",
        "ES_MC = tf.keras.callbacks.EarlyStopping(monitor='val_accuracy',patience=100,restore_best_weights=True)\n",
        "history_MC_tuned=MC_classifier_tuned.fit(x=train_x,y=train_y_mc,batch_size=2**8,epochs=100,validation_split=0.2,shuffle=True,callbacks=[ES_MC])\n",
        "MC_classifier_tuned.summary()"
      ],
      "execution_count": null,
      "outputs": []
    },
    {
      "cell_type": "markdown",
      "metadata": {
        "id": "1vAV7kmBywMY"
      },
      "source": [
        "튜닝된 모델의 결과를 확인합니다."
      ]
    },
    {
      "cell_type": "code",
      "metadata": {
        "id": "A_V41Ji3yvZ5"
      },
      "source": [
        "# from sklearn.metrics import confusion_matrix, multilabel_confusion_matrix, ConfusionMatrixDisplay\n",
        "\n",
        "pred_y_mc_t = MC_classifier_tuned(test_x)\n",
        "y_pred_mc_t = tf.argmax(pred_y_mc_t,axis=1)\n",
        "y_true_mc = tf.argmax(test_y_mc,axis=1)\n",
        "\n",
        "MCCM_t = confusion_matrix(y_pred_mc_t,y_true_mc)\n",
        "fig, ax = plt.subplots(figsize=[15,8])\n",
        "disp = ConfusionMatrixDisplay(confusion_matrix = MCCM_t, display_labels=Source)\n",
        "disp.plot(xticks_rotation='vertical',values_format='d',ax=ax)\n",
        "plt.tick_params(axis='both',labelsize='12')\n",
        "plt.xlabel('Predicted label',fontsize='15')\n",
        "plt.ylabel('True label',fontsize='15')\n",
        "fig.tight_layout()\n",
        "plt.show()\n",
        "print('Accuracy: %s %%' %((MCCM_t[0,0]+MCCM_t[1,1]+MCCM_t[2,2]+MCCM_t[3,3]+MCCM_t[4,4]+MCCM_t[5,5]+MCCM_t[6,6]+MCCM_t[7,7])/sum(sum(MCCM_t))*100))"
      ],
      "execution_count": null,
      "outputs": []
    },
    {
      "cell_type": "code",
      "metadata": {
        "id": "JiVgjO3JzKzY"
      },
      "source": [
        ""
      ],
      "execution_count": null,
      "outputs": []
    }
  ]
}